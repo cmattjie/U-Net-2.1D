{
 "cells": [
  {
   "cell_type": "code",
   "execution_count": 78,
   "metadata": {},
   "outputs": [],
   "source": [
    "from glob import glob\n",
    "import os\n",
    "import monai\n",
    "from monai.transforms.utils import get_unique_labels\n",
    "from monai.transforms import (\n",
    "    EnsureChannelFirstd,\n",
    "    Compose,\n",
    "    LoadImaged,\n",
    "    Flipd,\n",
    "    Rotate90d,\n",
    "    LabelToMaskd,\n",
    "    MapTransform,\n",
    ")\n",
    "\n",
    "from torch.utils.data import DataLoader\n",
    "from tqdm import tqdm\n",
    "from monai.data import ThreadDataLoader, NibabelWriter\n",
    "import torch\n",
    "import numpy as np"
   ]
  },
  {
   "cell_type": "code",
   "execution_count": 83,
   "metadata": {},
   "outputs": [
    {
     "name": "stdout",
     "output_type": "stream",
     "text": [
      "Found 131 CT scans and 131 masks\n"
     ]
    }
   ],
   "source": [
    "data_paths = {\n",
    "    'hmd': '/mnt/B-SSD/unet21d_slices/datasets/liver/supervised',\n",
    "    'LITSkaggle': '/mnt/B-SSD/unet21d_slices/datasets/LITSkaggle',\n",
    "    'amos22': '/mnt/B-SSD/unet21d_slices/datasets/amos22/AMOS22',\n",
    "    'MSD_Brain': '/mnt/B-SSD/unet21d_slices/datasets/MSD/Task01_BrainTumour',\n",
    "    'MSD_Heart': '/mnt/B-SSD/unet21d_slices/datasets/MSD/Task02_Heart',\n",
    "    'MSD_Liver': '/mnt/B-SSD/unet21d_slices/datasets/MSD/Task03_Liver',\n",
    "    'MSD_Hippocampus': '/mnt/B-SSD/unet21d_slices/datasets/MSD/Task04_Hippocampus',\n",
    "    'MSD_Prostate': '/mnt/B-SSD/unet21d_slices/datasets/MSD/Task05_Prostate',\n",
    "    'MSD_Lung': '/mnt/B-SSD/unet21d_slices/datasets/MSD/Task06_Lung',\n",
    "    'MSD_Pancreas': '/mnt/B-SSD/unet21d_slices/datasets/MSD/Task07_Pancreas',\n",
    "    'MSD_HepaticVessel': '/mnt/B-SSD/unet21d_slices/datasets/MSD/Task08_HepaticVessel',\n",
    "    'MSD_Spleen': '/mnt/B-SSD/unet21d_slices/datasets/MSD/Task09_Spleen',\n",
    "    'MSD_Colon': '/mnt/B-SSD/unet21d_slices/datasets/MSD/Task10_Colon',\n",
    "    \n",
    "}\n",
    "dataset = 'LITSkaggle'\n",
    "dataset_path = data_paths[dataset]\n",
    "\n",
    "ct = sorted(glob(os.path.join(dataset_path, 'imagesTr', '*.nii*')))\n",
    "mask = sorted(glob(os.path.join(dataset_path, 'labelsTr', '*.nii*')))\n",
    "\n",
    "print(\"Found {} CT scans and {} masks\".format(len(ct), len(mask)))\n",
    "files = [{'ct': ct_, 'mask': mask_} for ct_, mask_ in zip(ct, mask)]\n",
    "\n",
    "processed_path = os.path.join('/mnt/B-SSD/unet21d_slices/datasets/test', dataset)\n",
    "imagefolder = 'images'\n",
    "maskfolder = 'mask'"
   ]
  },
  {
   "cell_type": "code",
   "execution_count": 84,
   "metadata": {},
   "outputs": [],
   "source": [
    "class ConvertToMultiChannelBasedOnClassesd(MapTransform):\n",
    "    \"\"\"\n",
    "    Convert labels to multi channels based on classes:\n",
    "    Args:\n",
    "        keys (list): list of keys to be transformed.\n",
    "    \"\"\"\n",
    "\n",
    "    def __call__(self, data):\n",
    "        d = dict(data)\n",
    "        # Get unique labels\n",
    "        labels = list(get_unique_labels(d[self.keys[0]], is_onehot=False))[1:]\n",
    "        # Convert labels to multi channels\n",
    "        for key in self.keys:\n",
    "            result = []\n",
    "            for label in labels:\n",
    "                result.append(d[key] == label)\n",
    "            d[key] = torch.squeeze(torch.stack(result, axis=0).float())\n",
    "        return d"
   ]
  },
  {
   "cell_type": "code",
   "execution_count": 86,
   "metadata": {},
   "outputs": [
    {
     "name": "stderr",
     "output_type": "stream",
     "text": [
      "  0%|          | 0/131 [00:00<?, ?it/s]TypedStorage is deprecated. It will be removed in the future and UntypedStorage will be the only storage class. This should only matter to you if you are using storages directly.  To access UntypedStorage directly, use tensor.untyped_storage() instead of tensor.storage()\n",
      "TypedStorage is deprecated. It will be removed in the future and UntypedStorage will be the only storage class. This should only matter to you if you are using storages directly.  To access UntypedStorage directly, use tensor.untyped_storage() instead of tensor.storage()\n",
      "TypedStorage is deprecated. It will be removed in the future and UntypedStorage will be the only storage class. This should only matter to you if you are using storages directly.  To access UntypedStorage directly, use tensor.untyped_storage() instead of tensor.storage()\n",
      "TypedStorage is deprecated. It will be removed in the future and UntypedStorage will be the only storage class. This should only matter to you if you are using storages directly.  To access UntypedStorage directly, use tensor.untyped_storage() instead of tensor.storage()\n",
      "TypedStorage is deprecated. It will be removed in the future and UntypedStorage will be the only storage class. This should only matter to you if you are using storages directly.  To access UntypedStorage directly, use tensor.untyped_storage() instead of tensor.storage()\n",
      "TypedStorage is deprecated. It will be removed in the future and UntypedStorage will be the only storage class. This should only matter to you if you are using storages directly.  To access UntypedStorage directly, use tensor.untyped_storage() instead of tensor.storage()\n",
      "  0%|          | 0/131 [00:14<?, ?it/s]\n"
     ]
    }
   ],
   "source": [
    "# define transforms for image and segmentation\n",
    "transforms = Compose(\n",
    "    [\n",
    "        LoadImaged(keys=['ct', 'mask'], image_only=True),\n",
    "        EnsureChannelFirstd(keys=['ct', 'mask']),\n",
    "        Rotate90d(keys=['ct', 'mask'], k=2, spatial_axes=(0, 1)),\n",
    "        ConvertToMultiChannelBasedOnClassesd(keys=['mask']),\n",
    "        #LabelToMaskd(keys=['mask'], select_labels=[1, 2], merge_channels=True),\n",
    "        #Flipd(keys=['mask'], spatial_axis=1), #hmd data are flipped\n",
    "    ]\n",
    ")\n",
    "\n",
    "ds = monai.data.Dataset(data=files, transform=transforms)\n",
    "loader = ThreadDataLoader(ds, num_workers=1, batch_size=1, shuffle=False)\n",
    "\n",
    "writer_ct = NibabelWriter()\n",
    "writer_mask = NibabelWriter(output_dtype=np.int8)\n",
    "\n",
    "patient_num = 0\n",
    "for batch_data in tqdm(loader):\n",
    "    ct, mask = batch_data['ct'], batch_data['mask']\n",
    "\n",
    "    for slice in tqdm(range(ct.shape[4]), leave=False):\n",
    "        writer_ct.set_data_array(ct[0, 0, :, :, slice], channel_dim=None)\n",
    "        # first four digits are patient number, last four are slice number\n",
    "        writer_ct.write(os.path.join(processed_path, imagefolder, '{:04d}_{:04d}_test.nii'.format(patient_num, slice)))\n",
    "\n",
    "        writer_mask.set_data_array(mask[0, :, :, :, slice], channel_dim=0)\n",
    "        # first four digits are patient number, last four are slice number\n",
    "        writer_mask.write(os.path.join(processed_path, maskfolder, '{:04d}_{:04d}_test.nii'.format(patient_num, slice)))\n",
    "            \n",
    "    break\n",
    "    patient_num += 1"
   ]
  },
  {
   "cell_type": "code",
   "execution_count": null,
   "metadata": {},
   "outputs": [],
   "source": []
  },
  {
   "cell_type": "code",
   "execution_count": null,
   "metadata": {},
   "outputs": [],
   "source": []
  }
 ],
 "metadata": {
  "kernelspec": {
   "display_name": "master",
   "language": "python",
   "name": "python3"
  },
  "language_info": {
   "codemirror_mode": {
    "name": "ipython",
    "version": 3
   },
   "file_extension": ".py",
   "mimetype": "text/x-python",
   "name": "python",
   "nbconvert_exporter": "python",
   "pygments_lexer": "ipython3",
   "version": "3.9.13"
  },
  "orig_nbformat": 4
 },
 "nbformat": 4,
 "nbformat_minor": 2
}
